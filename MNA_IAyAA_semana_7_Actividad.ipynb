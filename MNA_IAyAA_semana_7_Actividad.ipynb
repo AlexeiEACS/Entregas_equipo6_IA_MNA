{
  "cells": [
    {
      "cell_type": "markdown",
      "metadata": {
        "id": "VFj0sSM06dYa"
      },
      "source": [
        "#**Maestría en Inteligencia Artificial Aplicada**\n",
        "##**Curso: Inteligencia Artificial y Aprendizaje Automático**\n",
        "###Tecnológico de Monterrey\n",
        "###Prof Luis Eduardo Falcón Morales\n",
        "\n",
        "## **Adtividad de la Semana 7**\n",
        "###**Red Neuronal Artificial - Perceptrón Multicapa : Multilayer Perceptrón (MLP)**\n"
      ]
    },
    {
      "cell_type": "markdown",
      "metadata": {
        "id": "Qgrvy0RGB9XI"
      },
      "source": [
        "**Nombres y matrículas de los integrantes del equipo:**\n",
        "\n",
        "*   \n",
        "*   \n",
        "*   \n",
        "*   \n",
        "*   \n"
      ]
    },
    {
      "cell_type": "markdown",
      "metadata": {
        "id": "FrJ2ahMODVj1"
      },
      "source": [
        "En cada sección deberás incluir todas las líneas de código necesarias para responder a cada uno de los ejercicios."
      ]
    },
    {
      "cell_type": "code",
      "execution_count": null,
      "metadata": {
        "id": "exXsscs-Dh-2"
      },
      "outputs": [],
      "source": [
        "# Incluye aquí todos módulos, librerías y paquetes que requieras.\n",
        "import pandas as pd\n",
        "import numpy as np\n",
        "import matplotlib.pyplot as plt\n",
        "import seaborn as sns\n",
        "sns.set()\n",
        "\n",
        "from sklearn.model_selection import train_test_split\n",
        "from sklearn.pipeline import Pipeline\n",
        "from sklearn.pipeline import make_pipeline\n",
        "\n",
        "from sklearn.metrics import make_scorer\n",
        "\n",
        "from sklearn.model_selection import cross_validate\n",
        "from sklearn.model_selection import RepeatedKFold, GridSearchCV\n",
        "\n",
        "from sklearn.dummy import DummyRegressor\n",
        "from sklearn.linear_model import LinearRegression\n",
        "from sklearn.neural_network import MLPRegressor\n",
        "from sklearn.ensemble import RandomForestRegressor\n",
        "\n",
        "from sklearn.inspection import permutation_importance"
      ]
    },
    {
      "cell_type": "markdown",
      "metadata": {
        "id": "X25brD-gQdZM"
      },
      "source": [
        "#**Ejercicio-1.** "
      ]
    },
    {
      "cell_type": "markdown",
      "metadata": {
        "id": "PctLmJYgyvmR"
      },
      "source": [
        "En esta tarea considera únicamente la siguiente variable de salida que se concluye que es una de las mejores en el artículo antes citado: ‘Lifetime People who have liked a Page and engaged with a post'. Renombra dicha variable como “LPE” . Como variables de entrada selecciona las 7 variables que indican los autores en la Tabla 3 del artículo citado."
      ]
    },
    {
      "cell_type": "code",
      "execution_count": 2,
      "metadata": {
        "colab": {
          "base_uri": "https://localhost:8080/",
          "height": 206
        },
        "id": "3nU2GuWYCy6C",
        "outputId": "a86bc036-5ac4-4e9b-bf7b-44847ae7dc0b"
      },
      "outputs": [
        {
          "data": {
            "text/html": [
              "<div>\n",
              "<style scoped>\n",
              "    .dataframe tbody tr th:only-of-type {\n",
              "        vertical-align: middle;\n",
              "    }\n",
              "\n",
              "    .dataframe tbody tr th {\n",
              "        vertical-align: top;\n",
              "    }\n",
              "\n",
              "    .dataframe thead th {\n",
              "        text-align: right;\n",
              "    }\n",
              "</style>\n",
              "<table border=\"1\" class=\"dataframe\">\n",
              "  <thead>\n",
              "    <tr style=\"text-align: right;\">\n",
              "      <th></th>\n",
              "      <th>Category</th>\n",
              "      <th>Page total likes</th>\n",
              "      <th>Type</th>\n",
              "      <th>Post Month</th>\n",
              "      <th>Post Hour</th>\n",
              "      <th>Post Weekday</th>\n",
              "      <th>Paid</th>\n",
              "      <th>LPE</th>\n",
              "    </tr>\n",
              "  </thead>\n",
              "  <tbody>\n",
              "    <tr>\n",
              "      <th>0</th>\n",
              "      <td>2</td>\n",
              "      <td>139441</td>\n",
              "      <td>Photo</td>\n",
              "      <td>12</td>\n",
              "      <td>3</td>\n",
              "      <td>4</td>\n",
              "      <td>0.0</td>\n",
              "      <td>119</td>\n",
              "    </tr>\n",
              "    <tr>\n",
              "      <th>1</th>\n",
              "      <td>2</td>\n",
              "      <td>139441</td>\n",
              "      <td>Status</td>\n",
              "      <td>12</td>\n",
              "      <td>10</td>\n",
              "      <td>3</td>\n",
              "      <td>0.0</td>\n",
              "      <td>1108</td>\n",
              "    </tr>\n",
              "    <tr>\n",
              "      <th>2</th>\n",
              "      <td>3</td>\n",
              "      <td>139441</td>\n",
              "      <td>Photo</td>\n",
              "      <td>12</td>\n",
              "      <td>3</td>\n",
              "      <td>3</td>\n",
              "      <td>0.0</td>\n",
              "      <td>132</td>\n",
              "    </tr>\n",
              "    <tr>\n",
              "      <th>3</th>\n",
              "      <td>2</td>\n",
              "      <td>139441</td>\n",
              "      <td>Photo</td>\n",
              "      <td>12</td>\n",
              "      <td>10</td>\n",
              "      <td>2</td>\n",
              "      <td>1.0</td>\n",
              "      <td>1386</td>\n",
              "    </tr>\n",
              "    <tr>\n",
              "      <th>4</th>\n",
              "      <td>2</td>\n",
              "      <td>139441</td>\n",
              "      <td>Photo</td>\n",
              "      <td>12</td>\n",
              "      <td>3</td>\n",
              "      <td>2</td>\n",
              "      <td>0.0</td>\n",
              "      <td>396</td>\n",
              "    </tr>\n",
              "  </tbody>\n",
              "</table>\n",
              "</div>"
            ],
            "text/plain": [
              "   Category  Page total likes    Type  Post Month  Post Hour  Post Weekday  \\\n",
              "0         2            139441   Photo          12          3             4   \n",
              "1         2            139441  Status          12         10             3   \n",
              "2         3            139441   Photo          12          3             3   \n",
              "3         2            139441   Photo          12         10             2   \n",
              "4         2            139441   Photo          12          3             2   \n",
              "\n",
              "   Paid   LPE  \n",
              "0   0.0   119  \n",
              "1   0.0  1108  \n",
              "2   0.0   132  \n",
              "3   1.0  1386  \n",
              "4   0.0   396  "
            ]
          },
          "execution_count": 2,
          "metadata": {},
          "output_type": "execute_result"
        }
      ],
      "source": [
        "data = pd.read_csv(r'https://raw.githubusercontent.com/AlexeiEACS/Entregas_equipo6_IA_MNA/main/data/Facebook_metrics/dataset_Facebook.csv', sep=';', header=0)\n",
        "data = data.rename(columns= {'Lifetime People who have liked your Page and engaged with your post':'LPE'})\n",
        "data = data[[\"Category\", \"Page total likes\", \"Type\", \"Post Month\", \"Post Hour\", \"Post Weekday\", \"Paid\", \"LPE\"]]\n",
        "data.head()"
      ]
    },
    {
      "cell_type": "markdown",
      "metadata": {
        "id": "xZhr2hkECzVv"
      },
      "source": [
        "#**Ejercicio-2.**"
      ]
    },
    {
      "cell_type": "markdown",
      "metadata": {
        "id": "VP2GJTVFzE7o"
      },
      "source": [
        "Realiza una partición de los datos con 100 datos de Prueba y el resto para entrenamiento y validación."
      ]
    },
    {
      "cell_type": "code",
      "execution_count": 18,
      "metadata": {
        "colab": {
          "base_uri": "https://localhost:8080/"
        },
        "id": "kGfAoOPkC1PP",
        "outputId": "f952286d-59d4-44a8-8537-a0a7152af95c"
      },
      "outputs": [
        {
          "name": "stdout",
          "output_type": "stream",
          "text": [
            "(500, 8)\n"
          ]
        }
      ],
      "source": [
        "print(data.shape)\n",
        "X = data.drop('LPE', axis=1)\n",
        "y = data['LPE']"
      ]
    },
    {
      "cell_type": "code",
      "execution_count": 20,
      "metadata": {
        "colab": {
          "base_uri": "https://localhost:8080/"
        },
        "id": "GOydw5OGC1MJ",
        "outputId": "ef33346c-00c4-4ec0-c884-a6f880574a9c"
      },
      "outputs": [
        {
          "name": "stdout",
          "output_type": "stream",
          "text": [
            "(100, 7)\n",
            "(100,)\n"
          ]
        }
      ],
      "source": [
        "X_train, X_test, y_train, y_test = train_test_split(X, y, test_size= 1/5) # 20% Conjunto de prueba, y 80% entrenamiento/validación\n",
        "print(X_test.shape)\n",
        "print(y_test.shape)"
      ]
    },
    {
      "cell_type": "markdown",
      "metadata": {
        "id": "NCunuooTC2W3"
      },
      "source": [
        "#**Ejercicio-3.**"
      ]
    },
    {
      "cell_type": "markdown",
      "metadata": {
        "id": "-wjnxPuq2cQN"
      },
      "source": [
        "Definirás tus propias funciones de errores para este problema de regresión. Los errores que utilizarás son la raíz cuadrada del error cuadrático medio RMSE, el error absoluto medio MAE y el error porcentual absoluto medio MAPE."
      ]
    },
    {
      "cell_type": "code",
      "execution_count": 5,
      "metadata": {
        "id": "YXlcSWA-C4Dj"
      },
      "outputs": [],
      "source": [
        "def mi_RMSE(y_real, y_pred):\n",
        "    result = np.sqrt(np.mean((y_real - y_pred) ** 2))\n",
        "    return result\n",
        "\n",
        "def mi_MAE(y_real, y_pred):\n",
        "    result = np.mean(np.abs(y_real - y_pred))\n",
        "    return result\n",
        "\n",
        "def mi_MAPE(y_real, y_pred):\n",
        "    result = 100 * np.mean(np.absolute((y_real - y_pred)/y_real))\n",
        "    return result"
      ]
    },
    {
      "cell_type": "code",
      "execution_count": 6,
      "metadata": {
        "id": "D-OUZtgls3II"
      },
      "outputs": [],
      "source": [
        "def metricas_regresion(y_real, y_pred, name):\n",
        "    tabla = pd.DataFrame(index = ['RMSE', 'MAE', 'MAPE'],\n",
        "                        data= [mi_RMSE(y_real, y_pred), mi_MAE(y_real, y_pred), mi_MAPE(y_real, y_pred)], columns= [name])\n",
        "    return tabla"
      ]
    },
    {
      "cell_type": "markdown",
      "metadata": {
        "id": "chqk9jIDC5Pq"
      },
      "source": [
        "#**Ejercicio-4.**"
      ]
    },
    {
      "cell_type": "markdown",
      "metadata": {
        "id": "W15oJRFl3F6e"
      },
      "source": [
        "En la página de la UCI, así como en el artículo de los autores previamente citado encuentras información en relación al significado de cada variable. Haz una análisis de tus datos y lleva a cabo las transformaciones que consideres adecuadas tanto en los datos de entrada, como en las de salida. Utiliza un Pipeline para evitar el filtrado de información."
      ]
    },
    {
      "cell_type": "code",
      "execution_count": 7,
      "metadata": {
        "colab": {
          "base_uri": "https://localhost:8080/",
          "height": 1000
        },
        "id": "RBVSFwK4C6g9",
        "outputId": "d99343ad-6814-4b82-90df-982843ef5b62"
      },
      "outputs": [
        {
          "name": "stdout",
          "output_type": "stream",
          "text": [
            "<class 'pandas.core.frame.DataFrame'>\n",
            "RangeIndex: 500 entries, 0 to 499\n",
            "Data columns (total 7 columns):\n",
            " #   Column            Non-Null Count  Dtype  \n",
            "---  ------            --------------  -----  \n",
            " 0   Category          500 non-null    int64  \n",
            " 1   Page total likes  500 non-null    int64  \n",
            " 2   Type              500 non-null    object \n",
            " 3   Post Month        500 non-null    int64  \n",
            " 4   Post Hour         500 non-null    int64  \n",
            " 5   Post Weekday      500 non-null    int64  \n",
            " 6   Paid              499 non-null    float64\n",
            "dtypes: float64(1), int64(5), object(1)\n",
            "memory usage: 27.5+ KB\n",
            "None\n"
          ]
        },
        {
          "data": {
            "text/plain": [
              "array([[<AxesSubplot: title={'center': 'Category'}>,\n",
              "        <AxesSubplot: title={'center': 'Page total likes'}>],\n",
              "       [<AxesSubplot: title={'center': 'Post Month'}>,\n",
              "        <AxesSubplot: title={'center': 'Post Hour'}>],\n",
              "       [<AxesSubplot: title={'center': 'Post Weekday'}>,\n",
              "        <AxesSubplot: title={'center': 'Paid'}>]], dtype=object)"
            ]
          },
          "execution_count": 7,
          "metadata": {},
          "output_type": "execute_result"
        },
        {
          "data": {
            "image/png": "[encoded data removed]",
            "text/plain": [
              "<Figure size 2000x2000 with 6 Axes>"
            ]
          },
          "metadata": {},
          "output_type": "display_data"
        }
      ],
      "source": [
        "print(X.info())\n",
        "X.hist(figsize=(20,20))"
      ]
    },
    {
      "cell_type": "code",
      "execution_count": 8,
      "metadata": {
        "colab": {
          "base_uri": "https://localhost:8080/",
          "height": 311
        },
        "id": "FIDen46X31XU",
        "outputId": "e1284e40-a421-4e0f-dd77-27ac7c2bc287"
      },
      "outputs": [
        {
          "data": {
            "text/plain": [
              "<AxesSubplot: >"
            ]
          },
          "execution_count": 8,
          "metadata": {},
          "output_type": "execute_result"
        },
        {
          "data": {
            "image/png": "[encoded data removed]",
            "text/plain": [
              "<Figure size 640x480 with 1 Axes>"
            ]
          },
          "metadata": {},
          "output_type": "display_data"
        }
      ],
      "source": [
        "data[\"Type\"].value_counts().plot(kind='bar')"
      ]
    },
    {
      "cell_type": "code",
      "execution_count": 14,
      "metadata": {
        "id": "u_BtSFDIs3IK"
      },
      "outputs": [],
      "source": [
        "from sklearn.compose import ColumnTransformer\n",
        "from sklearn.preprocessing import OneHotEncoder, OrdinalEncoder, StandardScaler\n",
        "from sklearn.impute import SimpleImputer\n",
        "\n",
        "num_pipe = Pipeline(\n",
        "             steps=[('imputer', SimpleImputer(strategy='median')),\n",
        "                    ('scaler', StandardScaler())]\n",
        "           )\n",
        "cat_pipe = Pipeline(\n",
        "             steps= [('Encoder',OneHotEncoder(drop='first')),\n",
        "                      ('imputer', SimpleImputer(strategy='most_frequent'))]\n",
        "           )\n",
        "\n",
        "cat_col = ['Type', 'Category', 'Paid',  'Post Month', 'Post Hour', 'Post Weekday']\n",
        "num_col = ['Page total likes']\n",
        "column_transformer = ColumnTransformer(transformers=[\n",
        "            ('categoricas', cat_pipe, cat_col),\n",
        "            ('numericas', num_pipe, num_col),\n",
        "          ])"
      ]
    },
    {
      "cell_type": "markdown",
      "metadata": {
        "id": "Rv7KFq-mC7PS"
      },
      "source": [
        "#**Ejercicio-5.**"
      ]
    },
    {
      "cell_type": "markdown",
      "metadata": {
        "id": "UiMJlr755-rc"
      },
      "source": [
        "Utiliza la función Dummy para modelos de regresión de scikit-learn con el conjunto que tienes de datos de entrenamiento y validación. Para ello particiónalos en 100 para validación y 300 para entrenamiento. Encuentra los errores RMSE, MAE y MAPE para los conjuntos de entrenamiento y validación. Estos serán tus errores máximos que deberás tomar como referencia en el resto de la actividad. Consulta su documentación correspondiente: https://scikit-learn.org/stable/modules/generated/sklearn.dummy.DummyRegressor.html"
      ]
    },
    {
      "cell_type": "code",
      "execution_count": 15,
      "metadata": {
        "colab": {
          "base_uri": "https://localhost:8080/"
        },
        "id": "jaDj3kawC9B6",
        "outputId": "a54db606-2ac3-4f3b-c660-0cd9528787c1"
      },
      "outputs": [
        {
          "name": "stdout",
          "output_type": "stream",
          "text": [
            "(300, 7)\n",
            "(100, 7)\n"
          ]
        }
      ],
      "source": [
        "Xtt, Xtv, ytt, ytv = train_test_split(X_train, y_train, test_size= 100/len(y_train))\n",
        "print(Xtt.shape)\n",
        "print(Xtv.shape)"
      ]
    },
    {
      "cell_type": "code",
      "execution_count": 16,
      "metadata": {
        "colab": {
          "base_uri": "https://localhost:8080/",
          "height": 143
        },
        "id": "4tQxQROVC9Us",
        "outputId": "9ea88c91-a414-4bef-bda0-84202bb5031c"
      },
      "outputs": [
        {
          "data": {
            "text/html": [
              "<div>\n",
              "<style scoped>\n",
              "    .dataframe tbody tr th:only-of-type {\n",
              "        vertical-align: middle;\n",
              "    }\n",
              "\n",
              "    .dataframe tbody tr th {\n",
              "        vertical-align: top;\n",
              "    }\n",
              "\n",
              "    .dataframe thead th {\n",
              "        text-align: right;\n",
              "    }\n",
              "</style>\n",
              "<table border=\"1\" class=\"dataframe\">\n",
              "  <thead>\n",
              "    <tr style=\"text-align: right;\">\n",
              "      <th></th>\n",
              "      <th>Entrenamiento</th>\n",
              "      <th>Validación</th>\n",
              "    </tr>\n",
              "  </thead>\n",
              "  <tbody>\n",
              "    <tr>\n",
              "      <th>RMSE</th>\n",
              "      <td>628.757439</td>\n",
              "      <td>446.273812</td>\n",
              "    </tr>\n",
              "    <tr>\n",
              "      <th>MAE</th>\n",
              "      <td>407.824756</td>\n",
              "      <td>338.418333</td>\n",
              "    </tr>\n",
              "    <tr>\n",
              "      <th>MAPE</th>\n",
              "      <td>114.683538</td>\n",
              "      <td>112.232549</td>\n",
              "    </tr>\n",
              "  </tbody>\n",
              "</table>\n",
              "</div>"
            ],
            "text/plain": [
              "      Entrenamiento  Validación\n",
              "RMSE     628.757439  446.273812\n",
              "MAE      407.824756  338.418333\n",
              "MAPE     114.683538  112.232549"
            ]
          },
          "execution_count": 16,
          "metadata": {},
          "output_type": "execute_result"
        }
      ],
      "source": [
        "dummy_model = DummyRegressor()\n",
        "dummy_model.fit(Xtt, ytt)\n",
        "\n",
        "y_pred_tt  = dummy_model.predict(Xtt)\n",
        "y_pred_tv  = dummy_model.predict(Xtv)\n",
        "dummy_results = metricas_regresion(ytt, y_pred_tt, 'Entrenamiento').join(metricas_regresion(ytv, y_pred_tv, 'Validación'))\n",
        "dummy_results\n",
        "\n"
      ]
    },
    {
      "cell_type": "markdown",
      "metadata": {
        "id": "W2S7LI0NC9wE"
      },
      "source": [
        "#**Ejercicio-6.**"
      ]
    },
    {
      "cell_type": "markdown",
      "metadata": {
        "id": "1KVKsjyy7Wxp"
      },
      "source": [
        "Usando los modelos de regresión lineal múltiple, el bosque aleatorio y el perceptrón multicapa con sus valores predeterminados, lleva a cabo su entrenamiento con repeticiones de validación cruzada (RepeatedKFold) y desplegando los errores RMSE, MAE y MAPE. Recuerda evitar el filtrado de información usando los datos que obtuviste en el ejercicio 2. Incluye las conclusiones sobre el mejor modelo encontrado en esta primera aproximación. En particular ¿hay alguno sobreentrenado o subentrenado? NOTA: Recuerda que puedes aumentar en dado caso el número máximo de iteraciones para que todos los modelos converjan."
      ]
    },
    {
      "cell_type": "code",
      "execution_count": 14,
      "metadata": {
        "colab": {
          "base_uri": "https://localhost:8080/"
        },
        "id": "x6uBleJUC_AU",
        "outputId": "51b47453-b01c-41d9-87f0-d2c689ddecae"
      },
      "outputs": [
        {
          "name": "stdout",
          "output_type": "stream",
          "text": [
            "El performance de DUMMY es: \n",
            "      Entrenamiento  Validación\n",
            "RMSE     614.887090  603.505231\n",
            "MAE      414.289156  370.187600\n",
            "MAPE     145.971375  141.514744\n",
            "--------------------------------------------------------\n",
            "            Regresión Lineal\n",
            "fit_time            0.012812\n",
            "score_time          0.005664\n",
            "test_RMSE         414.860347\n",
            "train_RMSE        480.932820\n",
            "test_MAE          249.933196\n",
            "train_MAE         293.203210\n",
            "test_MAPE          78.720546\n",
            "train_MAPE         95.127678\n",
            "            Bosque Aleatorio\n",
            "fit_time            0.189566\n",
            "score_time          0.015449\n",
            "test_RMSE         458.408164\n",
            "train_RMSE        212.150271\n",
            "test_MAE          280.604884\n",
            "train_MAE         129.936593\n",
            "test_MAPE          87.280962\n",
            "train_MAPE         40.387789\n",
            "            Perceptrón Multicapa\n",
            "fit_time               12.427118\n",
            "score_time              0.006552\n",
            "test_RMSE             427.252131\n",
            "train_RMSE            433.861226\n",
            "test_MAE              261.318506\n",
            "train_MAE             269.729653\n",
            "test_MAPE              80.693316\n",
            "train_MAPE             86.473876\n"
          ]
        }
      ],
      "source": [
        "modelos = [LinearRegression(), RandomForestRegressor(), MLPRegressor(max_iter=10000)]\n",
        "nombres = ['Regresión Lineal', 'Bosque Aleatorio', 'Perceptrón Multicapa']\n",
        "metricas = {'RMSE':make_scorer(mi_RMSE), 'MAE':make_scorer(mi_MAE), 'MAPE':make_scorer(mi_MAPE)}\n",
        "\n",
        "print(f'El performance de DUMMY es: ')\n",
        "print(dummy_results)\n",
        "print(\"--------------------------------------------------------\")\n",
        "\n",
        "resultados = []\n",
        "\n",
        "for model, name in zip(modelos, nombres):\n",
        "    pipe = make_pipeline(column_transformer, model)\n",
        "    \n",
        "    cv = RepeatedKFold(n_splits=5, n_repeats=3, random_state= 42)\n",
        "    cv_model = cross_validate(pipe,\n",
        "        X = X_train,\n",
        "        y = y_train,\n",
        "        cv = cv,\n",
        "        scoring= metricas,\n",
        "        return_train_score= True,\n",
        "        error_score= 0,\n",
        "        n_jobs= -1\n",
        "    )\n",
        "    \n",
        "    resultados.append(cv_model)\n",
        "    # print(f'Para el modelo de {name} sus valores son:')\n",
        "    print(pd.DataFrame(index= cv_model.keys(),data= [np.mean(x) for x in cv_model.values()], columns= [name]))\n"
      ]
    },
    {
      "cell_type": "markdown",
      "metadata": {
        "id": "I42JwdZSLJI_"
      },
      "source": [
        "\n",
        "Conculsiones sobre el ejercicio 6\n",
        "\n",
        "Se puede ver\n"
      ]
    },
    {
      "cell_type": "markdown",
      "metadata": {
        "id": "iCNGx4TQ8CFI"
      },
      "source": [
        "#**Ejercicio-7.**"
      ]
    },
    {
      "cell_type": "markdown",
      "metadata": {
        "id": "4EASIPK2DaLZ"
      },
      "source": [
        "Obtener los diagramas de caja y bigote para los errores MAPE de los conjuntos de validación obtenidos. En particular compara estos primeros resultados de MAPE con el mejor resultado que encuentran los autores del artículo citado al inicio. Incluye tus conclusiones."
      ]
    },
    {
      "cell_type": "code",
      "execution_count": 15,
      "metadata": {
        "colab": {
          "base_uri": "https://localhost:8080/",
          "height": 821
        },
        "id": "ewvwUcJX78y1",
        "outputId": "0ea991c0-c29d-4372-d1d1-f9479a559bf1"
      },
      "outputs": [
        {
          "data": {
            "image/png": "[encoded data removed]",
            "text/plain": [
              "<Figure size 432x288 with 1 Axes>"
            ]
          },
          "metadata": {},
          "output_type": "display_data"
        },
        {
          "data": {
            "image/png": "[encoded data removed]",
            "text/plain": [
              "<Figure size 432x288 with 1 Axes>"
            ]
          },
          "metadata": {},
          "output_type": "display_data"
        },
        {
          "data": {
            "image/png": "[encoded data removed]",
            "text/plain": [
              "<Figure size 432x288 with 1 Axes>"
            ]
          },
          "metadata": {},
          "output_type": "display_data"
        }
      ],
      "source": [
        "train_list = [f'train_{x}' for x in metricas.keys()]\n",
        "test_list = [f'test_{x}' for x in metricas.keys()]\n",
        "pd.DataFrame(resultados[0])\n",
        "\n",
        "for i in range(len(resultados)):\n",
        "  res_temp = pd.DataFrame(resultados[i])\n",
        "  sns.boxplot(data=res_temp[[\"train_MAPE\", \"test_MAPE\"]])\n",
        "\n",
        "  plt.title(f'Metrica MAPE del modelo  {nombres[i]}')\n",
        "  \n",
        "  plt.show()"
      ]
    },
    {
      "cell_type": "markdown",
      "metadata": {
        "id": "7_w1xxb5LVAk"
      },
      "source": [
        "\n",
        "Conculsiones sobre el ejercicio 7\n",
        "\n",
        "Viendo las gráficas del MAPE se puede ver que el mejor modelo fue la regresión lineal ya que se mantuvo cercana a su media de entrenamiento la media de validación. El modelo que sub ajusto fue el bosque aleatorio pero ese era de esperarse ya que no se ajustaron sus hipérparametros, el que sobre ajustó fue el Perceotrón ya que tuvo mucho mejor resultado de entrenamiento y en la validación tuvo valores con demasiada variación. Aquí se puede ver el trade de sesgo y variación.\n"
      ]
    },
    {
      "cell_type": "markdown",
      "metadata": {
        "id": "tzQn5NR78GFg"
      },
      "source": [
        "#**Ejercicio-8.**"
      ]
    },
    {
      "cell_type": "markdown",
      "metadata": {
        "id": "UqXQcDYmLfVh"
      },
      "source": [
        "Usando una búsqueda de malla con validación cruzada (GridSearchCV), busca los mejores hiperparámetros para el modelo MLP. Al menos deberás realizar la búsqueda en los hiperparámetros “hidden_layer_sizes”, “alpha” y “learning_rate_init”. Además aplica la validación cruzada con repeticiones (RepeatedKFold). Muestra los mejores hiperparámetros encontrados.\n"
      ]
    },
    {
      "cell_type": "code",
      "execution_count": 22,
      "metadata": {
        "id": "EBKcp0278IQV"
      },
      "outputs": [],
      "source": [
        "pipe_MLP = Pipeline(steps=[('columns', column_transformer),\n",
        "                            ('modelo', MLPRegressor(max_iter=10000, n_jobs = -1))])\n",
        "\n",
        "parms_MLP = {'modelo__hidden_layer_sizes': [(k,) for k in np.arange(1, 200, 50, dtype=int)],\n",
        "            'modelo__alpha': np.linspace(0.0001,0.1,4),\n",
        "            'modelo__learning_rate_init': np.linspace(0.001,0.1,10),\n",
        "            'modelo__learning_rate': ['invsacaling', 'adaptive'],\n",
        "            'modelo__activation': ['identity', 'logistic', 'tanh', 'relu'],\n",
        "            'modelo__solver': ['adam', 'sgd']\n",
        "            }\n",
        "\n",
        "mi_kfold = RepeatedKFold(n_splits=5, n_repeats=3, random_state=0)\n",
        "\n",
        "mlp_grid = GridSearchCV(estimator= pipe_MLP, \n",
        "                      param_grid= parms_MLP,\n",
        "                      scoring= make_scorer(mi_MAPE),\n",
        "                      cv= mi_kfold,\n",
        "                      n_jobs= -1)\n",
        "\n",
        "mlp_grid.fit(X_train, y_train)\n",
        "print(f'El mejor score fue: {mlp_grid.best_score_}')\n",
        "print(f'Los mejores parametros fueron: {mlp_grid.best_params_}')\n",
        "mpl_mejor_modelo = image.png_grid.best_estimator_"
      ]
    },
    {
      "cell_type": "markdown",
      "metadata": {
        "id": "mASNrZWs8JTh"
      },
      "source": [
        "#**Ejercicio-9.**"
      ]
    },
    {
      "cell_type": "markdown",
      "metadata": {
        "id": "aEid0-_tYoBq"
      },
      "source": [
        "Con los mejores valores de los hiperparámetros encontrados realiza un análisis de la importancia de los factores. Muestra un diagrama de barras de los resultados e incluye tus conclusiones."
      ]
    },
    {
      "cell_type": "code",
      "execution_count": null,
      "metadata": {
        "id": "X6HJP9hb8LCp"
      },
      "outputs": [],
      "source": [
        "# mlp_pred = mpl_mejor_modelo.predict(X_test)\n",
        "# mlp_pred.hist(figsize=(5,5))\n",
        "\n",
        "importancia = permutation_importance(mpl_mejor_modelo, X_train, y_train, n_repeats=10)\n",
        "importancia_df = pd.DataFrame(importancia['importances_mean'], columns = X_train.colums)\n",
        "importancia_df"
      ]
    },
    {
      "cell_type": "markdown",
      "metadata": {
        "id": "FtABFV8-HOdr"
      },
      "source": [
        "Análisis de mejores Hiperparámetros para MLP\n",
        "\n",
        "Se puede ver"
      ]
    },
    {
      "cell_type": "markdown",
      "metadata": {
        "id": "VUIcDshs8MzG"
      },
      "source": [
        "#**Ejercicio-10.**"
      ]
    },
    {
      "cell_type": "code",
      "execution_count": null,
      "metadata": {
        "id": "0lKNJNIt8N88"
      },
      "outputs": [],
      "source": [
        "pipe_rf = Pipeline(steps=[('columns', column_transformer),\n",
        "                            ('modelo', RandomForestRegressor(n_jobs= -1))])\n",
        "\n",
        "parms_rf = {'modelo__n_estimators': np.arange(10,100,10),\n",
        "            'modelo__criterion': ['squared_error', 'absolute_error', 'poisson'],\n",
        "            'modelo__max_depth': np.arange(10, 100, 10)\n",
        "            }\n",
        "\n",
        "mi_kfold = RepeatedKFold(n_splits=5, n_repeats=3, random_state=0)\n",
        "\n",
        "rf_grid = GridSearchCV(estimator= pipe_rf, \n",
        "                      param_grid= parms_rf,\n",
        "                      scoring= make_scorer(mi_MAPE),\n",
        "                      cv= mi_kfold,\n",
        "                      n_jobs= -1)\n",
        "\n",
        "rf_grid.fit(X_train, y_train)\n",
        "print(f'El mejor score fue: {rf_grid.best_score_}')\n",
        "print(f'Los mejores parametros fueron: {rf_grid.best_params_}')\n",
        "rf_mejor_modelo = rf_grid.best_estimator_"
      ]
    },
    {
      "cell_type": "code",
      "execution_count": null,
      "metadata": {
        "id": "Inkq5YQe8PED"
      },
      "outputs": [],
      "source": [
        "importancia = permutation_importance(rf_mejor_modelo, X_train, y_train, n_repeats=10)\n",
        "importancia_df = pd.DataFrame(importancia['importances_mean'], columns = X_train.colums)\n",
        "importancia_df"
      ]
    },
    {
      "cell_type": "markdown",
      "metadata": {
        "id": "5LJl6oql8Pc8"
      },
      "source": [
        "#**Ejercicio-11.**"
      ]
    },
    {
      "cell_type": "code",
      "execution_count": null,
      "metadata": {
        "id": "-YiSnt9t8RfN"
      },
      "outputs": [],
      "source": [
        "pipe_lr = Pipeline(steps=[('columns', column_transformer),\n",
        "                            ('modelo', LinearRegression())])\n",
        "\n",
        "parms_lr = {'modelo__normalize': [True, False]}\n",
        "\n",
        "mi_kfold = RepeatedKFold(n_splits=5, n_repeats=3, random_state=0)\n",
        "\n",
        "lr_grid = GridSearchCV(estimator= pipe_lr, \n",
        "                      param_grid= parms_lr,\n",
        "                      scoring= make_scorer(mi_MAPE),\n",
        "                      cv= mi_kfold,\n",
        "                      n_jobs= -1)\n",
        "\n",
        "lr_grid.fit(X_train, y_train)\n",
        "print(f'El mejor score fue: {lr_grid.best_score_}')\n",
        "print(f'Los mejores parametros fueron: {lr_grid.best_params_}')\n",
        "lr_mejor_modelo = lr_grid.best_estimator_"
      ]
    },
    {
      "cell_type": "code",
      "execution_count": null,
      "metadata": {
        "id": "2iRA78ZC8Rbm"
      },
      "outputs": [],
      "source": [
        "importancia = permutation_importance(lr_mejor_modelo, X_train, y_train, n_repeats=10)\n",
        "importancia_df = pd.DataFrame(importancia['importances_mean'], columns = X_train.colums)\n",
        "importancia_df"
      ]
    },
    {
      "cell_type": "markdown",
      "metadata": {
        "id": "IKW72uyk8Sbc"
      },
      "source": [
        "#**Ejercicio-12.**"
      ]
    },
    {
      "cell_type": "code",
      "execution_count": null,
      "metadata": {
        "id": "gwpz77W38Uq0"
      },
      "outputs": [],
      "source": [
        "None"
      ]
    },
    {
      "cell_type": "code",
      "execution_count": null,
      "metadata": {
        "id": "8v8HL02W8UmW"
      },
      "outputs": [],
      "source": []
    },
    {
      "cell_type": "markdown",
      "metadata": {
        "id": "7ql_r2G-DB_m"
      },
      "source": [
        "###**Fin de la Actividad de la semana 7.**"
      ]
    }
  ],
  "metadata": {
    "colab": {
      "collapsed_sections": [],
      "provenance": []
    },
    "gpuClass": "standard",
    "kernelspec": {
      "display_name": "Python 3.10.7 64-bit",
      "language": "python",
      "name": "python3"
    },
    "language_info": {
      "codemirror_mode": {
        "name": "ipython",
        "version": 3
      },
      "file_extension": ".py",
      "mimetype": "text/x-python",
      "name": "python",
      "nbconvert_exporter": "python",
      "pygments_lexer": "ipython3",
      "version": "3.10.7"
    },
    "vscode": {
      "interpreter": {
        "hash": "1418645e23dba782d281558ed166d6abc368aba746def0b2ea98a16bae85ccbc"
      }
    }
  },
  "nbformat": 4,
  "nbformat_minor": 0
}
